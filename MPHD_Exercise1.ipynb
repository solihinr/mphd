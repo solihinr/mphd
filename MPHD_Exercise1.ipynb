{
 "cells": [
  {
   "cell_type": "markdown",
   "metadata": {},
   "source": [
    "# Introduction to Python\n"
   ]
  },
  {
   "cell_type": "markdown",
   "metadata": {},
   "source": [
    "**Structure of the notebook for session 1**\n",
    "\n",
    "* 1 General concepts\n",
    " * 1.1 Simple Calculations\n",
    " * 1.2 Getting help\n",
    " * 1.3 The print function\n",
    " * 1.4 Comments\n",
    "* 2 Key concepts\n",
    " * 2.1 Variables\n",
    " * 2.2 Expressions and operators\n",
    "  * 2.2.1 Arithmetic operators\n",
    "  * 2.2.2 Comparison (aka relational) operators\n",
    " * 2.3 Logic operators\n",
    "* 3 Data types\n",
    " * 3.1 Numbers \n",
    " * 3.2 Strings\n",
    " * 3.3 Boolean\n",
    "* 4 Data structures\n",
    "  * 4.1 Lists\n",
    "  * 4.2 Tuples\n",
    "  * 4.3 Dictionaries\n",
    "* 5 Resources\n",
    "\n",
    "---------------------------------"
   ]
  },
  {
   "cell_type": "markdown",
   "metadata": {},
   "source": [
    "# 1. General concepts\n",
    "## 1.1 Simple calculations"
   ]
  },
  {
   "cell_type": "code",
   "execution_count": 1,
   "metadata": {},
   "outputs": [
    {
     "data": {
      "text/plain": [
       "4"
      ]
     },
     "execution_count": 1,
     "metadata": {},
     "output_type": "execute_result"
    }
   ],
   "source": [
    "1+3"
   ]
  },
  {
   "cell_type": "code",
   "execution_count": 2,
   "metadata": {
    "scrolled": true
   },
   "outputs": [
    {
     "data": {
      "text/plain": [
       "7"
      ]
     },
     "execution_count": 2,
     "metadata": {},
     "output_type": "execute_result"
    }
   ],
   "source": [
    "5+2"
   ]
  },
  {
   "cell_type": "markdown",
   "metadata": {},
   "source": [
    "## 1.2 Getting help"
   ]
  },
  {
   "cell_type": "code",
   "execution_count": null,
   "metadata": {},
   "outputs": [],
   "source": [
    "help(round)"
   ]
  },
  {
   "cell_type": "markdown",
   "metadata": {},
   "source": [
    "## 1.3 Print function"
   ]
  },
  {
   "cell_type": "markdown",
   "metadata": {},
   "source": [
    "The print function allows you to print values on the screen.\n",
    "\n",
    "It's one of many functions Python comes with (more to follow in the next session)\n",
    "\n",
    "Two strings can be concatenated – or combined -  together in one string by adding them together with __+__"
   ]
  },
  {
   "cell_type": "code",
   "execution_count": 5,
   "metadata": {},
   "outputs": [
    {
     "name": "stdout",
     "output_type": "stream",
     "text": [
      "Hello, world\n"
     ]
    }
   ],
   "source": [
    "print (\"Hello, world\")"
   ]
  },
  {
   "cell_type": "markdown",
   "metadata": {},
   "source": [
    "####  _Exercise 1_\n",
    "* Type your name using the print function"
   ]
  },
  {
   "cell_type": "code",
   "execution_count": 6,
   "metadata": {},
   "outputs": [
    {
     "name": "stdout",
     "output_type": "stream",
     "text": [
      "solihin rezali\n"
     ]
    }
   ],
   "source": [
    "print ('solihin rezali')"
   ]
  },
  {
   "cell_type": "markdown",
   "metadata": {},
   "source": [
    "When running multiple lines of codes at once only _printed_ statements and the last variables are given as output.\n",
    "\n",
    "See example of this below."
   ]
  },
  {
   "cell_type": "code",
   "execution_count": 7,
   "metadata": {},
   "outputs": [
    {
     "name": "stdout",
     "output_type": "stream",
     "text": [
      "Two\n"
     ]
    },
    {
     "data": {
      "text/plain": [
       "'Three'"
      ]
     },
     "execution_count": 7,
     "metadata": {},
     "output_type": "execute_result"
    }
   ],
   "source": [
    "\"One\"\n",
    "print(\"Two\")\n",
    "\"Three\""
   ]
  },
  {
   "cell_type": "markdown",
   "metadata": {},
   "source": [
    "#### _Exercise 2_"
   ]
  },
  {
   "cell_type": "markdown",
   "metadata": {},
   "source": [
    "* Edit the code above to print all three numbers as output"
   ]
  },
  {
   "cell_type": "code",
   "execution_count": 9,
   "metadata": {},
   "outputs": [
    {
     "name": "stdout",
     "output_type": "stream",
     "text": [
      "one two three\n"
     ]
    }
   ],
   "source": [
    "print('one',\n",
    "      'two',\n",
    "      'three')"
   ]
  },
  {
   "cell_type": "markdown",
   "metadata": {},
   "source": [
    "## 1.4 Comments\n",
    "Code after a __#__ symbol doesn't run (does not get executed)."
   ]
  },
  {
   "cell_type": "code",
   "execution_count": 10,
   "metadata": {},
   "outputs": [
    {
     "name": "stdout",
     "output_type": "stream",
     "text": [
      "This runs\n"
     ]
    }
   ],
   "source": [
    "print(\"This runs\") \n",
    "# print(\"this does not run\")\n",
    "# this is for beginner learn"
   ]
  },
  {
   "cell_type": "markdown",
   "metadata": {},
   "source": [
    "# 2. Key concepts\n",
    "## 2.1 Variables\n",
    "* Variables are how values are stored in a Python program\n",
    "* Each variable has a unique name\n",
    "* A variable can support multiple data types\n",
    "  * i.e. it can hold a string, a number or a date (more detail below)\n",
    "* You assign a value using the __=__ operator\n",
    "* Variables in Python are _strongly, dynamically typed_\n",
    "  * The data type of a variable does not magically change\n",
    "  * A string will not become a number\n",
    "  * You are not allowed to do operations that are incompatible with the variable data type\n",
    "      * An example of this being adding a string with an integer"
   ]
  },
  {
   "cell_type": "code",
   "execution_count": 11,
   "metadata": {},
   "outputs": [
    {
     "data": {
      "text/plain": [
       "str"
      ]
     },
     "execution_count": 11,
     "metadata": {},
     "output_type": "execute_result"
    }
   ],
   "source": [
    "name = \"Abu Ali\"\n",
    "type(name)"
   ]
  },
  {
   "cell_type": "code",
   "execution_count": 13,
   "metadata": {},
   "outputs": [
    {
     "data": {
      "text/plain": [
       "float"
      ]
     },
     "execution_count": 13,
     "metadata": {},
     "output_type": "execute_result"
    }
   ],
   "source": [
    "patient_hr=103.5\n",
    "type(patient_hr)"
   ]
  },
  {
   "cell_type": "markdown",
   "metadata": {},
   "source": [
    "## 2.2 Expressions and operators\n",
    "* Python scripts are essentially a collection of variables and operators\n",
    "* Operators manipulate variables or combine them, forming expressions\n",
    "\n",
    "```Python\n",
    "name = \"Claire\"\n",
    "```\n",
    "\n",
    "* The operator is __=__\n",
    "* The variable is __name__\n",
    "\n",
    "```Python\n",
    "kg = 85\n",
    "grams = kg * 1000\n",
    "```\n",
    "* The operators are __=__ and __*__\n",
    "* The variables are __kg__ and __grams__\n"
   ]
  },
  {
   "cell_type": "markdown",
   "metadata": {},
   "source": [
    "###  2.2.1 Arithmetic operators\n",
    "\n",
    "Arithmetic operators turn your computer into a (very) expensive calculator.\n",
    "\n",
    "\n",
    "\n",
    "| Operator | Description | Example | Result |\n",
    "|----------| ----------- | ------- | ------ |\n",
    "| +  | addition           | 2+2  | 4   | \n",
    "| -  | subtraction        | 2-1  | 1   |\n",
    "| /  | division           | 3/2  | 1.5 |\n",
    "| // | division (integer) | 3//2 | 1   | \n",
    "| *  | multiplication     | 5\\*2 | 10  | \n",
    "| %  | modulus            | 7%3  | 1   |\n",
    "| \\*\\* | exponentiation | 2\\*\\*2 | 4 | "
   ]
  },
  {
   "cell_type": "markdown",
   "metadata": {
    "slideshow": {
     "slide_type": "slide"
    }
   },
   "source": [
    "#### _Exercise 3_\n",
    "\n",
    "* Create two variable that contains a patient's systolic and diastolic blood pressure. Assume the patient sistolic blood pressure is 120 and diastolic blood pressure is 80.\n",
    "* In a third variable called _systemic_bp_ store the calculate systemic blood pressure (systolic - diastolic blood pressure)\n",
    "* Print out the systemic blood pressure\n"
   ]
  },
  {
   "cell_type": "code",
   "execution_count": 14,
   "metadata": {},
   "outputs": [
    {
     "name": "stdout",
     "output_type": "stream",
     "text": [
      "40\n"
     ]
    }
   ],
   "source": [
    "sys_bp = 120\n",
    "dias_bp = 80\n",
    "systemic_bp = sys_bp - dias_bp\n",
    "print(systemic_bp)"
   ]
  },
  {
   "cell_type": "markdown",
   "metadata": {},
   "source": [
    "#### _Exercise 4_\n",
    "- Check your understanding\n",
    "- What values do height and age have each statement in the following program? \n",
    "```\n",
    "age = 82\n",
    "height = 91\n",
    "age = age - 20\n",
    "height = height * 2\n",
    "print(age, height)\n",
    "```\n",
    "- Test your answers by executing the commands."
   ]
  },
  {
   "cell_type": "code",
   "execution_count": 15,
   "metadata": {},
   "outputs": [
    {
     "name": "stdout",
     "output_type": "stream",
     "text": [
      "62 182\n"
     ]
    }
   ],
   "source": [
    "age = 82\n",
    "height = 91\n",
    "age = age - 20\n",
    "height = height * 2\n",
    "print(age, height)"
   ]
  },
  {
   "cell_type": "markdown",
   "metadata": {},
   "source": [
    "#### __Exercise 5__\n",
    "* Read the code example and error message below and solve the issue by converting the number to a string with the str() function "
   ]
  },
  {
   "cell_type": "code",
   "execution_count": 16,
   "metadata": {},
   "outputs": [
    {
     "ename": "TypeError",
     "evalue": "can only concatenate str (not \"int\") to str",
     "output_type": "error",
     "traceback": [
      "\u001b[1;31m---------------------------------------------------------------------------\u001b[0m",
      "\u001b[1;31mTypeError\u001b[0m                                 Traceback (most recent call last)",
      "Cell \u001b[1;32mIn[16], line 1\u001b[0m\n\u001b[1;32m----> 1\u001b[0m \u001b[38;5;124;43m\"\u001b[39;49m\u001b[38;5;124;43mPeterRabbit\u001b[39;49m\u001b[38;5;124;43m\"\u001b[39;49m\u001b[43m \u001b[49m\u001b[38;5;241;43m+\u001b[39;49m\u001b[43m \u001b[49m\u001b[38;5;241;43m1000\u001b[39;49m\n",
      "\u001b[1;31mTypeError\u001b[0m: can only concatenate str (not \"int\") to str"
     ]
    }
   ],
   "source": [
    "\"PeterRabbit\" + 1000"
   ]
  },
  {
   "cell_type": "code",
   "execution_count": null,
   "metadata": {},
   "outputs": [],
   "source": []
  },
  {
   "cell_type": "code",
   "execution_count": 18,
   "metadata": {},
   "outputs": [
    {
     "data": {
      "text/plain": [
       "'PeterRabbit is a rabbit'"
      ]
     },
     "execution_count": 18,
     "metadata": {},
     "output_type": "execute_result"
    }
   ],
   "source": [
    "\"PeterRabbit\" + \" is a rabbit\""
   ]
  },
  {
   "cell_type": "code",
   "execution_count": null,
   "metadata": {},
   "outputs": [],
   "source": []
  },
  {
   "cell_type": "markdown",
   "metadata": {},
   "source": [
    "### 2.2.2 Comparison (aka relational) operators\n",
    "\n",
    "* Comparison operators compare two values and decide the relation among them\n",
    "* They return _true_ if a condition is met and _false_ if its not\n",
    "\n",
    "| Operator | Description | Example | Result |\n",
    "|----------| ----------- | ------- | ------ |\n",
    "| == | true if values are equal     | 2==2  | true  | \n",
    "| != | true if values are not equal | 2!=1  | true  |\n",
    "| >  | greater than                 | 100>2 | true  |\n",
    "| <  | less than                    | 2<-1  | false | \n",
    "| >= | greater than or equal        | 5>=5  | true  | \n",
    "| <= | less than or equal           | 8<=2  | false  |"
   ]
  },
  {
   "cell_type": "markdown",
   "metadata": {},
   "source": [
    "#### _Exercise 6_\n",
    "* Using the variables from exercise 3, check if the patients systolic blood pressure is _less_ than the diastolic blood pressure"
   ]
  },
  {
   "cell_type": "code",
   "execution_count": 19,
   "metadata": {},
   "outputs": [
    {
     "data": {
      "text/plain": [
       "False"
      ]
     },
     "execution_count": 19,
     "metadata": {},
     "output_type": "execute_result"
    }
   ],
   "source": [
    "\n",
    "sys_bp < dias_bp"
   ]
  },
  {
   "cell_type": "markdown",
   "metadata": {},
   "source": [
    "## 2.3 Logic operators\n",
    "\n",
    "* Logic operators combine expressions into larger expressions\n",
    "* They work similarly to comparison operators\n",
    "* They return _true_ if a condition is met and _false_ if its not\n",
    "\n",
    "| Operator | Description | Example | Result |\n",
    "|----------| ----------- | ------- | ------ |\n",
    "| and | check if both conditions are true      | 2>1 and 3>4 | false  | \n",
    "| or  | check if either condition is true | 2 < 3 or 1>8  | true  |\n",
    "| ^ (xor)| check if *only* one condition is true | 4 < 3 ^ 3 < 2 | false |"
   ]
  },
  {
   "cell_type": "markdown",
   "metadata": {},
   "source": [
    "#### _Exercise 7_\n",
    "* Using the blood pressure example in Exercise 3 above, check if a patients systolic blood pressure and diastolic blood pressure are both more than 0"
   ]
  },
  {
   "cell_type": "code",
   "execution_count": 20,
   "metadata": {},
   "outputs": [
    {
     "data": {
      "text/plain": [
       "True"
      ]
     },
     "execution_count": 20,
     "metadata": {},
     "output_type": "execute_result"
    }
   ],
   "source": [
    "sys_bp > 0 and dias_bp > 0"
   ]
  },
  {
   "cell_type": "markdown",
   "metadata": {},
   "source": [
    "#### _Exercise 8_\n",
    "* Similarly using the blood pressure variables from above, construct a logical test with the 'or' operator that returns the value False"
   ]
  },
  {
   "cell_type": "code",
   "execution_count": 22,
   "metadata": {},
   "outputs": [
    {
     "data": {
      "text/plain": [
       "False"
      ]
     },
     "execution_count": 22,
     "metadata": {},
     "output_type": "execute_result"
    }
   ],
   "source": [
    "sys_bp > 120 or dias_bp > 80"
   ]
  },
  {
   "cell_type": "markdown",
   "metadata": {},
   "source": [
    "# 3. Data types"
   ]
  },
  {
   "cell_type": "markdown",
   "metadata": {},
   "source": [
    "## 3.1 Numbers\n",
    "* Number data types store numeric values.\n",
    "* Number objects are created when you assign a value to them.\n",
    "* Python supports four different numerical data types.\n",
    "\n",
    "| Name    | Usage |\n",
    "| --------| -------| \n",
    "| int     | signed integer             |\n",
    "| long    | long integer               |\n",
    "| float   | floating point real values |\n",
    "| complex | complex numbers            |"
   ]
  },
  {
   "cell_type": "code",
   "execution_count": 23,
   "metadata": {},
   "outputs": [],
   "source": [
    "number_one = 123\n",
    "number_two = 1234567890123456789012345678901234567890\n",
    "number_three = 3.141516\n",
    "number_four = 1.5 + 2j"
   ]
  },
  {
   "cell_type": "code",
   "execution_count": 24,
   "metadata": {},
   "outputs": [
    {
     "name": "stdout",
     "output_type": "stream",
     "text": [
      "<class 'int'> <class 'int'> <class 'float'> <class 'complex'>\n"
     ]
    }
   ],
   "source": [
    "print(\n",
    "    type(number_one), \n",
    "    type(number_two),\n",
    "    type(number_three),\n",
    "    type(number_four)\n",
    ")"
   ]
  },
  {
   "cell_type": "code",
   "execution_count": 25,
   "metadata": {},
   "outputs": [
    {
     "name": "stdout",
     "output_type": "stream",
     "text": [
      "1234567890123456789012345678901234567890\n"
     ]
    }
   ],
   "source": [
    "print (number_two)"
   ]
  },
  {
   "cell_type": "markdown",
   "metadata": {},
   "source": [
    "* The functions int(), float(), and str() can be used to convert data types from one form to another (Integer, float and string respectively)."
   ]
  },
  {
   "cell_type": "code",
   "execution_count": 27,
   "metadata": {},
   "outputs": [
    {
     "name": "stdout",
     "output_type": "stream",
     "text": [
      "100.0\n",
      "2\n",
      "1\n"
     ]
    }
   ],
   "source": [
    "print(float(100))\n",
    "print(int(2.78))\n",
    "print(str(1))"
   ]
  },
  {
   "cell_type": "code",
   "execution_count": null,
   "metadata": {},
   "outputs": [],
   "source": []
  },
  {
   "cell_type": "markdown",
   "metadata": {},
   "source": [
    "## 3.2 Strings\n",
    "* String data types store sequences of characters.\n",
    "* These must be enclosed in quotes (to distinguish them from variable names).\n",
    "* You can join multiple string variables with \"+\"\n",
    "* The len() function can return the total number of characters in a string.\n",
    "* Strings also have many other [built-in functions](https://docs.python.org/2/library/stdtypes.html#string-methods) used to manipulate them."
   ]
  },
  {
   "cell_type": "code",
   "execution_count": 28,
   "metadata": {},
   "outputs": [
    {
     "name": "stdout",
     "output_type": "stream",
     "text": [
      "Hello, this is an example string. Hi, nice to meet you! \n"
     ]
    }
   ],
   "source": [
    "example_string = \"Hello, this is an example string. \"\n",
    "another_string = \"Hi, nice to meet you! \"\n",
    "last_example   = example_string + another_string\n",
    "print (last_example)"
   ]
  },
  {
   "cell_type": "code",
   "execution_count": 29,
   "metadata": {},
   "outputs": [
    {
     "data": {
      "text/plain": [
       "'hELLO, THIS IS AN EXAMPLE STRING. '"
      ]
     },
     "execution_count": 29,
     "metadata": {},
     "output_type": "execute_result"
    }
   ],
   "source": [
    "example_string.swapcase()"
   ]
  },
  {
   "cell_type": "markdown",
   "metadata": {},
   "source": [
    "* Characters in strings are indexed.\n",
    "* This means the first string character element is 0, the second one is 1 etc\n",
    "* You can get the n-th string element by using the [ ] notation."
   ]
  },
  {
   "cell_type": "code",
   "execution_count": 30,
   "metadata": {},
   "outputs": [
    {
     "name": "stdout",
     "output_type": "stream",
     "text": [
      "123456789\n",
      "1\n",
      "3\n"
     ]
    }
   ],
   "source": [
    "nhs_number = \"123456789\"\n",
    "print (nhs_number)\n",
    "print (nhs_number[0])\n",
    "print (nhs_number[2])"
   ]
  },
  {
   "cell_type": "markdown",
   "metadata": {},
   "source": [
    "#### Exercise 9\n",
    "* What does the following program print out\n",
    "```\n",
    "    first, second = 'Hopper', 'Grace'\n",
    "    third, fourth = second, first\n",
    "    print(third, fourth)\n",
    "```\n",
    "* Test your answers by executing the commands.\n",
    " "
   ]
  },
  {
   "cell_type": "code",
   "execution_count": null,
   "metadata": {},
   "outputs": [],
   "source": []
  },
  {
   "cell_type": "markdown",
   "metadata": {},
   "source": [
    "#### _Exercise 10_\n",
    "* Create two variables to store a patients name. \n",
    "* One for the first name (Peter) and one for the second name (Smith).\n",
    "* Create a third variable that contains the full name.\n",
    "* Count the number of letters in the full name (use len)"
   ]
  },
  {
   "cell_type": "code",
   "execution_count": null,
   "metadata": {},
   "outputs": [],
   "source": [
    "first_name = \"Peter\"\n",
    "last_name = 'Smith'"
   ]
  },
  {
   "cell_type": "markdown",
   "metadata": {},
   "source": [
    "## 3.3 Boolean\n",
    "* Boolean variables can only be either True or False"
   ]
  },
  {
   "cell_type": "code",
   "execution_count": null,
   "metadata": {},
   "outputs": [],
   "source": [
    "yes = True\n",
    "no = False\n",
    "type(yes)"
   ]
  },
  {
   "cell_type": "code",
   "execution_count": null,
   "metadata": {},
   "outputs": [],
   "source": [
    "yes == no"
   ]
  },
  {
   "cell_type": "code",
   "execution_count": null,
   "metadata": {},
   "outputs": [],
   "source": [
    "False == False"
   ]
  },
  {
   "cell_type": "code",
   "execution_count": null,
   "metadata": {},
   "outputs": [],
   "source": [
    "no == no"
   ]
  },
  {
   "cell_type": "markdown",
   "metadata": {},
   "source": [
    "# 4. Data structures\n",
    "* There are three core data structures in Python.\n",
    "  - Lists:\n",
    "  ```[\"demographics\", \"diagnosis\", \"medication\", \"appointments\"]```\n",
    "  - Tuples:\n",
    "  ```(\"Atorvastine\", \"Levothyroxine Sodium\", \"Amlodipine\")```\n",
    "  - Dictionaries:\n",
    "  ```{\"patient_id\" : 007, \"first_name\" : \"James\", \"age\" : 29}```\n",
    "* Each data structure has its advantages and disadvantages and is defined by a different type of brackets __[, (, {__"
   ]
  },
  {
   "cell_type": "markdown",
   "metadata": {},
   "source": [
    "### 4.1. Lists\n",
    "* Lists are used to group together multiple values.\n",
    "* Square brackets [ ] are used to define a list, listing items within.\n",
    "* List values do not necessarily have to be the same type.\n",
    "* Elements in lists can be added, removed or changed using list methods\n",
    "\n",
    "#### List indexes and slicing:\n",
    "* Elements in lists are indexed - first list element is 0, the second one is 1 etc.\n",
    "* You can get the nth list element by using the [n] notation.\n",
    "\n",
    "* You can return a slice/subset of a list by using the colon :\n",
    "  - [2:3] return the third and fourth element.\n",
    "  - [4:] returns the fifth to last element.\n",
    "  - [4:-1] also returns the fifth to the last element.\n",
    "  - [:] selects all items and is the same as [0:last element]\n",
    "  "
   ]
  },
  {
   "cell_type": "markdown",
   "metadata": {},
   "source": [
    "* Python has many useful _methods_ for lists. Use these to subset or alter your lists.\n",
    "  * methods are run using the __.__ notation (list.method)\n",
    "    \n",
    "|List method|description|\n",
    "|:------    |:----     |\n",
    "|list.append(y)| will append value y at the end of the list|\n",
    "|list.insert(x, y)| will insert value y at location (index) x|\n",
    "|list.remove(x) | Remove the first item from the list whose value is equal to x|\n",
    "|list.pop(i)| Remove the item at position i in the list, and return it|\n",
    "|list.clear()| Remove all items from the list |\n",
    "|list.count(x)| Return the number of times x appears in the list|\n",
    "|list.sort()| Sort the items in the list|\n",
    "|list.revers()|Reverse the elements of the list in place|"
   ]
  },
  {
   "cell_type": "code",
   "execution_count": null,
   "metadata": {},
   "outputs": [],
   "source": [
    "example_list = [ 1.0, 2, 3, \"diagnosis\", \"patient_id\", \"in_patient\", 7, 9 ]\n",
    "print (example_list)\n",
    "type(example_list)"
   ]
  },
  {
   "cell_type": "code",
   "execution_count": null,
   "metadata": {},
   "outputs": [],
   "source": [
    "print (example_list[0])"
   ]
  },
  {
   "cell_type": "code",
   "execution_count": null,
   "metadata": {},
   "outputs": [],
   "source": [
    "example_list.append(10)\n",
    "print (example_list)\n",
    "example_list.insert(0, 'carcinoma')\n",
    "print (example_list)\n",
    "example_list.remove(\"carcinoma\")\n",
    "print (example_list)\n",
    "print (example_list.count(\"patient_id\"))"
   ]
  },
  {
   "attachments": {},
   "cell_type": "markdown",
   "metadata": {},
   "source": [
    "#### _Exercise 11_\n",
    "\n",
    "A student information system is used to keep track of student records. Each student record might consist of the following information:\n",
    "  - Student ID (immutable)\n",
    "  - Name\n",
    "  - Age\n",
    "  - Grades (a list of course grades)\n",
    "\n",
    "The following represents some students' grade for subject Language, History, Science, Mathematic respectively. Using a list for Grades:\n",
    " - student1_grades = [80, 90, 92, 88]\n",
    " - student2_grades = [65, 82, 79, 85]\n",
    " - student3_grades = [60, 72, 69  66]\n",
    "* Print the original grade for student 1.\n",
    "* Change the grade for student 1 for History to 95.\n",
    "* Print the modified grade for student 1.\n"
   ]
  },
  {
   "cell_type": "code",
   "execution_count": null,
   "metadata": {},
   "outputs": [],
   "source": []
  },
  {
   "cell_type": "code",
   "execution_count": null,
   "metadata": {},
   "outputs": [],
   "source": []
  },
  {
   "cell_type": "code",
   "execution_count": null,
   "metadata": {},
   "outputs": [],
   "source": []
  },
  {
   "cell_type": "markdown",
   "metadata": {},
   "source": [
    "### 4.2 Tuples\n",
    "* A tuple is an immutable sequence. \n",
    "* It is like a list, except it cannot be changed. \n",
    "* Tuples are defined with round brackets."
   ]
  },
  {
   "cell_type": "code",
   "execution_count": null,
   "metadata": {},
   "outputs": [],
   "source": [
    "patientIDs = (\"ID02153694\", \"ID02153695\", \"ID02153696\") # Patient ids should not change\n",
    "rs546213 = (\"AT\", \"AA\", \"GC\", \"GG\") # Results from a genetic analysis of SNP rs546213"
   ]
  },
  {
   "cell_type": "code",
   "execution_count": null,
   "metadata": {},
   "outputs": [],
   "source": [
    "# Print the second element from the patientIDs\n",
    "# Determine the data structure of the patient IDs"
   ]
  },
  {
   "cell_type": "code",
   "execution_count": null,
   "metadata": {},
   "outputs": [],
   "source": [
    "print (patientIDs[1])\n",
    "type(patientIDs)"
   ]
  },
  {
   "cell_type": "markdown",
   "metadata": {},
   "source": [
    "#### _Exercise 12_"
   ]
  },
  {
   "cell_type": "markdown",
   "metadata": {},
   "source": [
    "Based on the Exercise 11, tuples can be used to store student information (matric, name, age, and grade:\n",
    "- student1_info = (101, “Chin Wai Hong\", 20, [80, 90, 92, 88])\n",
    "- student2_info = (102, “Muthu A/L Samy\", 19, [65, 82, 79, 85])\n",
    "\n",
    "* Print the original student information for student 1.\n",
    "* Change the grade for student 1 for History to 95.\n",
    "* Print the modified student information for student 1."
   ]
  },
  {
   "cell_type": "code",
   "execution_count": 37,
   "metadata": {},
   "outputs": [
    {
     "name": "stdout",
     "output_type": "stream",
     "text": [
      "Original information of student1: (101, 'Chin Wai Hong', 20, [80, 90, 92, 88])\n"
     ]
    }
   ],
   "source": [
    "# Print the original student information\n",
    "\n",
    "student1_info = (101, \"Chin Wai Hong\", 20, [80, 90, 92, 88])\n",
    "student2_info = (102, \"Muthu A/L Samy\", 19, [65, 82, 79, 85])\n",
    "print(\"Original information of student1:\", student1_info)"
   ]
  },
  {
   "cell_type": "code",
   "execution_count": null,
   "metadata": {},
   "outputs": [],
   "source": [
    "# Change the grade for student 1 for History to 95\n",
    "\n"
   ]
  },
  {
   "cell_type": "code",
   "execution_count": null,
   "metadata": {},
   "outputs": [],
   "source": [
    "# Print the modified student information for student 1\n",
    "\n"
   ]
  },
  {
   "cell_type": "markdown",
   "metadata": {},
   "source": [
    "### 4.3 Dictionaries\n",
    "* Lists and tuples are great - but sometimes hard to use to organize things\n",
    "* Python provides another data structure to organize values, the _dictionary_\n",
    "* Dictionaries store data in pairs, key:value\n",
    "* Dictionaries are defined by curly brackets __{}__\n"
   ]
  },
  {
   "cell_type": "markdown",
   "metadata": {},
   "source": [
    "* Additional dictionary methods include\n",
    "\n",
    "|Method|Description|\n",
    "|--|--|\n",
    "|dict.clear()|Remove all items|\n",
    "|dict.copy()|Returns a shallow copy of a dictionary|\n",
    "|dict.get(x)|Returns value from key x|\n",
    "|dict.items()|Returns view of the dictionary's key:value pairs|\n",
    "\n",
    "* Dictionaries are mutable but the key part of the (key:value) pair must be of an immutable data type \n",
    "* All keys in a dictionary are unique - very helpful\n",
    "* Values can be anything ! i.e. strings, lists, numbers, etc.\n"
   ]
  },
  {
   "cell_type": "code",
   "execution_count": null,
   "metadata": {},
   "outputs": [],
   "source": [
    "example_dictionary = { \n",
    "    \"0101010Q0\" : \"Magnesium Hydroxide\", \n",
    "    \"0101010R0\" : \"Simeticone\", \n",
    "    \"0103020P0\" : \"Pirenzepine\", \n",
    "    \"0101010S0\" : \"Calcium Carbonate & Simeticone\"} \n",
    "\n",
    "example_dictionary"
   ]
  },
  {
   "cell_type": "code",
   "execution_count": null,
   "metadata": {},
   "outputs": [],
   "source": [
    "print(type(example_dictionary))"
   ]
  },
  {
   "cell_type": "markdown",
   "metadata": {},
   "source": [
    "* In a list we used a number to look up an element.\n",
    "* In a dictionary you can retrieve a value from a dictionary using the key"
   ]
  },
  {
   "cell_type": "code",
   "execution_count": null,
   "metadata": {},
   "outputs": [],
   "source": [
    "print (example_dictionary[\"0101010R0\"])"
   ]
  },
  {
   "cell_type": "markdown",
   "metadata": {},
   "source": [
    "* Equally, if you try and retrieve a key that does not exist, you will receive an error"
   ]
  },
  {
   "cell_type": "code",
   "execution_count": null,
   "metadata": {},
   "outputs": [],
   "source": [
    "print (example_dictionary[\"does not exist\"])"
   ]
  },
  {
   "cell_type": "markdown",
   "metadata": {},
   "source": [
    "* add and overwrite data "
   ]
  },
  {
   "cell_type": "code",
   "execution_count": null,
   "metadata": {},
   "outputs": [],
   "source": [
    "example_dictionary[\"0105010A0\"] = \"Aminosalicylic Acid\"\n",
    "example_dictionary"
   ]
  },
  {
   "cell_type": "markdown",
   "metadata": {},
   "source": [
    "* Remove elements from the dictionary using the _del_ command"
   ]
  },
  {
   "cell_type": "code",
   "execution_count": null,
   "metadata": {},
   "outputs": [],
   "source": [
    "# Delete the last entry which is wrong"
   ]
  },
  {
   "cell_type": "code",
   "execution_count": null,
   "metadata": {},
   "outputs": [],
   "source": []
  },
  {
   "cell_type": "markdown",
   "metadata": {},
   "source": [
    "# 5. Resources\n",
    "\n",
    "* [Python official documentation](https://docs.python.org/3/)\n",
    "* [Python wiki guide for befinners](https://wiki.python.org/moin/BeginnersGuide/NonProgrammers)\n",
    "* [Stack overflow](https://stackoverflow.com/)\n",
    "* [Pandas quick start guide](http://pandas.pydata.org/pandas-docs/stable/10min.html)"
   ]
  }
 ],
 "metadata": {
  "kernelspec": {
   "display_name": "Python 3 (ipykernel)",
   "language": "python",
   "name": "python3"
  },
  "language_info": {
   "codemirror_mode": {
    "name": "ipython",
    "version": 3
   },
   "file_extension": ".py",
   "mimetype": "text/x-python",
   "name": "python",
   "nbconvert_exporter": "python",
   "pygments_lexer": "ipython3",
   "version": "3.12.2"
  }
 },
 "nbformat": 4,
 "nbformat_minor": 4
}
